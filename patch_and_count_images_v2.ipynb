{
  "cells": [
    {
      "cell_type": "markdown",
      "metadata": {
        "id": "view-in-github",
        "colab_type": "text"
      },
      "source": [
        "<a href=\"https://colab.research.google.com/github/Jose-Augusto-C-M/deep_learning_toolbox/blob/main/patch_and_count_images_v2.ipynb\" target=\"_parent\"><img src=\"https://colab.research.google.com/assets/colab-badge.svg\" alt=\"Open In Colab\"/></a>"
      ]
    },
    {
      "cell_type": "code",
      "execution_count": null,
      "metadata": {
        "colab": {
          "base_uri": "https://localhost:8080/"
        },
        "id": "-HIl_UJ1KLf5",
        "outputId": "0df26377-bcc4-474c-96ee-e2b6b2001094"
      },
      "outputs": [
        {
          "output_type": "stream",
          "name": "stdout",
          "text": [
            "Drive already mounted at /content/drive; to attempt to forcibly remount, call drive.mount(\"/content/drive\", force_remount=True).\n"
          ]
        }
      ],
      "source": [
        "from google.colab import drive\n",
        "drive.mount('/content/drive')"
      ]
    },
    {
      "cell_type": "code",
      "source": [
        "!pip install imagecodecs"
      ],
      "metadata": {
        "colab": {
          "base_uri": "https://localhost:8080/"
        },
        "id": "PftrH0Di6O7O",
        "outputId": "21333d15-6e1f-48da-fbc4-50bb1632b039"
      },
      "execution_count": null,
      "outputs": [
        {
          "output_type": "stream",
          "name": "stdout",
          "text": [
            "Requirement already satisfied: imagecodecs in /usr/local/lib/python3.10/dist-packages (2024.1.1)\n",
            "Requirement already satisfied: numpy in /usr/local/lib/python3.10/dist-packages (from imagecodecs) (1.25.2)\n"
          ]
        }
      ]
    },
    {
      "cell_type": "code",
      "source": [
        "import os\n",
        "from datetime import date\n",
        "from tqdm import tqdm\n",
        "from PIL import Image\n",
        "import numpy as np\n",
        "import matplotlib.pyplot as plt\n",
        "from imagecodecs import imread\n",
        "import random"
      ],
      "metadata": {
        "id": "IR6vSIajR0HJ"
      },
      "execution_count": null,
      "outputs": []
    },
    {
      "cell_type": "code",
      "source": [
        "def plot_random_patches(original_output_folder, segmented_output_folder, num_patches_to_plot, random_seed=None):\n",
        "    # Set the random seed for reproducibility\n",
        "    random.seed(random_seed)\n",
        "\n",
        "    # Get a list of all files in the output folders\n",
        "    original_files = [f for f in os.listdir(original_output_folder) if f.endswith(\".tif\")]\n",
        "\n",
        "    # Randomly select patches for plotting\n",
        "    selected_original_files = random.sample(original_files, min(num_patches_to_plot, len(original_files)))\n",
        "\n",
        "    for selected_original_file in selected_original_files:\n",
        "        selected_original_path = os.path.join(original_output_folder, selected_original_file)\n",
        "        selected_segmented_path = os.path.join(segmented_output_folder, selected_original_file)\n",
        "\n",
        "        selected_original_img = np.array(imread(selected_original_path), dtype=np.float32)\n",
        "        selected_segmented_img = np.array(imread(selected_segmented_path), dtype=np.float32)\n",
        "\n",
        "        # Convert NumPy arrays to 8-bit\n",
        "        selected_original_patch_8bit = (selected_original_img * 255 / selected_original_img.max()).astype(np.uint8)\n",
        "        selected_segmented_patch_8bit = (selected_segmented_img / selected_segmented_img.max()).astype(np.uint8)\n",
        "\n",
        "        plt.figure(figsize=(10, 5))\n",
        "        plt.subplot(1, 2, 1)\n",
        "        plt.imshow(selected_original_patch_8bit, cmap='gray')\n",
        "        plt.title('Randomly Selected Original Patch')\n",
        "\n",
        "        plt.subplot(1, 2, 2)\n",
        "        plt.imshow(selected_segmented_patch_8bit, cmap='gray')\n",
        "        plt.title('Randomly Selected Segmented Patch')\n",
        "\n",
        "        plt.show()"
      ],
      "metadata": {
        "id": "BvoMEOF9RwM6"
      },
      "execution_count": null,
      "outputs": []
    },
    {
      "cell_type": "code",
      "source": [
        "def patch_images(original_folder, segmented_folder, original_output_folder, segmented_output_folder, patch_size, background_threshold):\n",
        "    if not os.path.exists(original_output_folder):\n",
        "        os.makedirs(original_output_folder)\n",
        "\n",
        "    if not os.path.exists(segmented_output_folder):\n",
        "        os.makedirs(segmented_output_folder)\n",
        "\n",
        "    os.makedirs(original_output_folder, exist_ok=True)\n",
        "    os.makedirs(segmented_output_folder, exist_ok=True)\n",
        "\n",
        "    # Get a list of all .tif image files in the original folder\n",
        "    original_files = [f for f in os.listdir(original_folder) if f.endswith(\".tif\")]\n",
        "\n",
        "    total_original_patches = 0\n",
        "    removed_due_to_size = 0\n",
        "    removed_due_to_background = 0\n",
        "\n",
        "    for original_file in tqdm(original_files, desc=\"Processing Images\", unit=\"image\"):\n",
        "        # Load the original image\n",
        "        original_path = os.path.join(original_folder, original_file)\n",
        "        original_img = np.array(imread(original_path), dtype=np.float32)  # Convert to NumPy array\n",
        "\n",
        "        # Derive segmented file name from the original file name\n",
        "        segmented_file = os.path.splitext(original_file)[0] + \".tif\"\n",
        "        segmented_path = os.path.join(segmented_folder, segmented_file)\n",
        "\n",
        "        #print(f\"Checking path: {segmented_path}\")\n",
        "        segmented_img = np.array(imread(segmented_path), dtype=np.float32)  # Convert to NumPy array\n",
        "        # convert the values in the segmented image from 1 and 2 to 0 and 1\n",
        "        segmented_img[segmented_img == 1] = 0\n",
        "        segmented_img[segmented_img == 2] = 1\n",
        "\n",
        "        # Check if the images have the same spatial dimensions\n",
        "        if original_img.shape[:2] != segmented_img.shape[:2]:\n",
        "            print(f\"Skipping {original_file} due to mismatched dimensions.\")\n",
        "            continue\n",
        "\n",
        "        # Split the original image into patches\n",
        "        original_patches = [original_img[row:row + patch_size, col:col + patch_size] for row in\n",
        "                            range(0, original_img.shape[0], patch_size) for col in\n",
        "                            range(0, original_img.shape[1], patch_size)]\n",
        "\n",
        "        # Split the segmented class mask into patches\n",
        "        segmented_patches = [segmented_img[row:row + patch_size, col:col + patch_size] for row in\n",
        "                             range(0, segmented_img.shape[0], patch_size) for col in\n",
        "                             range(0, segmented_img.shape[1], patch_size)]\n",
        "\n",
        "        # Save each patch and count the patches\n",
        "        for idx, (original_patch, segmented_patch) in enumerate(zip(original_patches, segmented_patches)):\n",
        "            # Skip patches smaller than the specified patch size\n",
        "            if original_patch.shape[0] < patch_size or original_patch.shape[1] < patch_size:\n",
        "                removed_due_to_size += 1\n",
        "                continue\n",
        "\n",
        "            # Calculate the percentage of background pixels\n",
        "            background_percentage = np.sum(segmented_patch == 1) / (patch_size * patch_size)\n",
        "\n",
        "            #print(f\"Background Percentage for patch {idx}: {background_percentage}\")\n",
        "\n",
        "            # Skip patches with more than the specified percentage of background pixels\n",
        "            if background_percentage > background_threshold:\n",
        "                removed_due_to_background += 1\n",
        "                continue\n",
        "\n",
        "            output_file_original = os.path.join(original_output_folder, f\"{os.path.splitext(original_file)[0]}_patch_{idx}.tif\")\n",
        "            output_file_segmented = os.path.join(segmented_output_folder, f\"{os.path.splitext(original_file)[0]}_patch_{idx}.tif\")\n",
        "\n",
        "            # Convert NumPy arrays to 8-bit\n",
        "            original_patch_8bit = (original_patch * 255 / original_patch.max()).astype(np.uint8)\n",
        "            segmented_patch_8bit = (segmented_patch / segmented_patch.max()).astype(np.uint8)\n",
        "\n",
        "            Image.fromarray(original_patch_8bit).save(output_file_original)\n",
        "            Image.fromarray(segmented_patch_8bit).save(output_file_segmented)\n",
        "\n",
        "            total_original_patches += 1\n",
        "\n",
        "    today = date.today()\n",
        "\n",
        "    print(\"Today's date:\", today)\n",
        "    print(f\"Patching complete.\")\n",
        "    print(f\"Total patches created: {total_original_patches + removed_due_to_size + removed_due_to_background}\")\n",
        "    print(f\"Patches removed due to size: {removed_due_to_size}\")\n",
        "    print(f\"Patches removed due to background: {removed_due_to_background}\")\n",
        "    print(f\"Total patches after removal: {total_original_patches}\")"
      ],
      "metadata": {
        "id": "c-kTjg4T3bWZ"
      },
      "execution_count": null,
      "outputs": []
    },
    {
      "cell_type": "code",
      "source": [
        "# Example usage\n",
        "original_folder_path = '/content/drive/MyDrive/Embrapa_Milho_Javali_2/corn_holes/raw_images_2'\n",
        "segmented_folder_path = '/content/drive/MyDrive/Embrapa_Milho_Javali_2/corn_holes/labels_3'\n",
        "original_output_folder_path = '/content/drive/MyDrive/Embrapa_Milho_Javali_2/corn_holes/original_patches_3/'\n",
        "segmented_output_folder_path = '/content/drive/MyDrive/Embrapa_Milho_Javali_2/corn_holes/segmented_patches_3/'\n",
        "\n",
        "patch_images(\n",
        "    original_folder_path,\n",
        "    segmented_folder_path,\n",
        "    original_output_folder_path,\n",
        "    segmented_output_folder_path,\n",
        "    patch_size=256,\n",
        "    background_threshold=0.90\n",
        ")"
      ],
      "metadata": {
        "colab": {
          "base_uri": "https://localhost:8080/"
        },
        "id": "Kbt0GmQ-HADg",
        "outputId": "51f2c40f-27a3-4706-c941-0147320699a5"
      },
      "execution_count": null,
      "outputs": [
        {
          "output_type": "stream",
          "name": "stderr",
          "text": [
            "Processing Images: 100%|██████████| 9/9 [02:20<00:00, 15.60s/image]"
          ]
        },
        {
          "output_type": "stream",
          "name": "stdout",
          "text": [
            "Today's date: 2024-04-17\n",
            "Patching complete.\n",
            "Total patches created: 8512\n",
            "Patches removed due to size: 317\n",
            "Patches removed due to background: 3941\n",
            "Total patches after removal: 4254\n"
          ]
        },
        {
          "output_type": "stream",
          "name": "stderr",
          "text": [
            "\n"
          ]
        }
      ]
    }
  ],
  "metadata": {
    "colab": {
      "provenance": [],
      "mount_file_id": "1G06e1QLnS09iyVTp0E7P4hlxX0_sDz2x",
      "authorship_tag": "ABX9TyN8bNBvpbeI+pR2baOspDTt",
      "include_colab_link": true
    },
    "kernelspec": {
      "display_name": "Python 3",
      "name": "python3"
    },
    "language_info": {
      "name": "python"
    }
  },
  "nbformat": 4,
  "nbformat_minor": 0
}